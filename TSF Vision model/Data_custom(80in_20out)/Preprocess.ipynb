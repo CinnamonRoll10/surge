{
 "cells": [
  {
   "cell_type": "code",
   "execution_count": 1,
   "metadata": {},
   "outputs": [],
   "source": [
    "import scipy.io as sio\n",
    "import mat73"
   ]
  },
  {
   "cell_type": "code",
   "execution_count": 3,
   "metadata": {},
   "outputs": [],
   "source": [
    "# Dataset Loading\n",
    "train=mat73.loadmat('./configAETime/configAETime_V_freq_subband_train.mat')\n",
    "train=train['x']\n",
    "test=mat73.loadmat('./configAETime/configAETime_V_freq_subband_test.mat')\n",
    "test=test['x']\n",
    "val=test[0:int(test.shape[0]/2)]"
   ]
  },
  {
   "cell_type": "code",
   "execution_count": 4,
   "metadata": {},
   "outputs": [],
   "source": [
    "# Normalization\n",
    "train_norm=train/max(abs(train.min()), abs(train.max()))\n",
    "test_norm=test/max(abs(test.min()), abs(test.max()))\n",
    "val_norm=val/max(abs(val.min()), abs(val.max()))"
   ]
  },
  {
   "cell_type": "code",
   "execution_count": 5,
   "metadata": {},
   "outputs": [],
   "source": [
    "# Shifting\n",
    "train_shift=(train_norm*0.5)+0.5\n",
    "test_shift=(test_norm*0.5)+0.5\n",
    "val_shift=(val_norm*0.5)+0.5"
   ]
  },
  {
   "cell_type": "code",
   "execution_count": 12,
   "metadata": {},
   "outputs": [],
   "source": [
    "sio.savemat('train.mat', {'HT':train_shift})\n",
    "sio.savemat('test.mat', {'HT':test_shift})\n",
    "sio.savemat('val.mat', {'HT':val_shift})"
   ]
  },
  {
   "cell_type": "code",
   "execution_count": 2,
   "metadata": {},
   "outputs": [],
   "source": [
    "x1=sio.loadmat('train.mat')\n",
    "x2=sio.loadmat('test.mat')"
   ]
  },
  {
   "cell_type": "code",
   "execution_count": 4,
   "metadata": {},
   "outputs": [
    {
     "data": {
      "text/plain": [
       "(168000, 2, 32, 32)"
      ]
     },
     "execution_count": 4,
     "metadata": {},
     "output_type": "execute_result"
    }
   ],
   "source": [
    "x1['HT'].shape"
   ]
  },
  {
   "cell_type": "code",
   "execution_count": 5,
   "metadata": {},
   "outputs": [
    {
     "data": {
      "text/plain": [
       "(72000, 2, 32, 32)"
      ]
     },
     "execution_count": 5,
     "metadata": {},
     "output_type": "execute_result"
    }
   ],
   "source": [
    "x2['HT'].shape"
   ]
  },
  {
   "cell_type": "code",
   "execution_count": null,
   "metadata": {},
   "outputs": [],
   "source": []
  }
 ],
 "metadata": {
  "kernelspec": {
   "display_name": "AI4WC",
   "language": "python",
   "name": "python3"
  },
  "language_info": {
   "codemirror_mode": {
    "name": "ipython",
    "version": 3
   },
   "file_extension": ".py",
   "mimetype": "text/x-python",
   "name": "python",
   "nbconvert_exporter": "python",
   "pygments_lexer": "ipython3",
   "version": "3.12.4"
  }
 },
 "nbformat": 4,
 "nbformat_minor": 2
}
